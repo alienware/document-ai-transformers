{
  "nbformat": 4,
  "nbformat_minor": 0,
  "metadata": {
    "colab": {
      "name": "FUNSD for Donut",
      "provenance": [],
      "collapsed_sections": [],
      "toc_visible": true
    },
    "kernelspec": {
      "name": "python3",
      "display_name": "Python 3"
    },
    "language_info": {
      "name": "python"
    }
  },
  "cells": [
    {
      "cell_type": "code",
      "execution_count": 1,
      "metadata": {
        "id": "E7vLDgAwrhRA",
        "colab": {
          "base_uri": "https://localhost:8080/"
        },
        "outputId": "cfd4a29b-4e76-41f4-bc53-ae191dbcad90"
      },
      "outputs": [
        {
          "output_type": "stream",
          "name": "stdout",
          "text": [
            "\u001b[K     |████████████████████████████████| 365 kB 5.3 MB/s \n",
            "\u001b[K     |████████████████████████████████| 115 kB 47.6 MB/s \n",
            "\u001b[K     |████████████████████████████████| 101 kB 9.0 MB/s \n",
            "\u001b[K     |████████████████████████████████| 212 kB 46.7 MB/s \n",
            "\u001b[K     |████████████████████████████████| 127 kB 40.8 MB/s \n",
            "\u001b[?25h"
          ]
        }
      ],
      "source": [
        "!pip install datasets -q "
      ]
    },
    {
      "cell_type": "code",
      "source": [
        "!wget https://guillaumejaume.github.io/FUNSD/dataset.zip\n",
        "!unzip dataset"
      ],
      "metadata": {
        "colab": {
          "base_uri": "https://localhost:8080/"
        },
        "id": "6L-SMGQKkCr8",
        "outputId": "c6d34b6d-6142-4499-df68-bef3afe9461e"
      },
      "execution_count": 15,
      "outputs": [
        {
          "output_type": "stream",
          "name": "stdout",
          "text": [
            "--2022-08-20 14:02:49--  https://guillaumejaume.github.io/FUNSD/dataset.zip\n",
            "Resolving guillaumejaume.github.io (guillaumejaume.github.io)... 185.199.109.153, 185.199.110.153, 185.199.111.153, ...\n",
            "Connecting to guillaumejaume.github.io (guillaumejaume.github.io)|185.199.109.153|:443... connected.\n",
            "HTTP request sent, awaiting response... 200 OK\n",
            "Length: 16838830 (16M) [application/zip]\n",
            "Saving to: ‘dataset.zip’\n",
            "\n",
            "dataset.zip         100%[===================>]  16.06M  --.-KB/s    in 0.1s    \n",
            "\n",
            "2022-08-20 14:02:50 (136 MB/s) - ‘dataset.zip’ saved [16838830/16838830]\n",
            "\n"
          ]
        }
      ]
    },
    {
      "cell_type": "code",
      "source": [
        "import json\n",
        "\n",
        "\n",
        "def get_element_by_id(id,data=data):\n",
        "  return next(item for item in data[\"form\"] if item[\"id\"] ==id)\n",
        "\n",
        "def get_element_by_label(label,data=data):\n",
        "  return next(item for item in data[\"form\"] if item[\"label\"] == label)\n",
        "\n",
        "def get_all_ids_by_label(label,data=data):\n",
        "  return [item[\"id\"] for item in data[\"form\"] if item[\"label\"] == label]\n",
        "\n",
        "def get_first_header(data=data):\n",
        "  return next(item for item in data[\"form\"] if item[\"label\"] == \"header\")\n",
        "\n",
        "def group_question_and_answers(question_id,data=data):\n",
        "  question = get_element_by_id(question_id,data=data)\n",
        "  if len(question[\"linking\"]) > 0:\n",
        "    answer = get_element_by_id(question[\"linking\"][0][1],data=data)\n",
        "    if question[\"text\"] != answer[\"text\"]:\n",
        "      return {\"question\":question[\"text\"],\"answer\":answer[\"text\"]}\n",
        "\n",
        "\n",
        "\n",
        "def load_json(path):\n",
        "  with open(path, \"r\") as fi:\n",
        "    data=json.loads(fi.read())\n",
        "  return data\n",
        "\n",
        "def create_donut_document(data):\n",
        "  header = get_first_header(data)\n",
        "\n",
        "  all_questions = get_all_ids_by_label(\"question\",data=data)\n",
        "\n",
        "  pairs=[]\n",
        "  for q_id in all_questions:\n",
        "    pair = group_question_and_answers(q_id,data=data)\n",
        "    if pair is not None:\n",
        "      pairs.append(pair)\n",
        "\n",
        "  return {\"header\":header[\"text\"], \"q&a\":pairs}\n",
        "\n",
        "data = load_json(\"dataset/testing_data/annotations/89856243.json\")\n",
        "\n",
        "create_donut_document(data)"
      ],
      "metadata": {
        "colab": {
          "base_uri": "https://localhost:8080/"
        },
        "id": "5z9kM2oYkrzW",
        "outputId": "bee1c228-0e98-4d51-df4d-08a4746ce705"
      },
      "execution_count": 82,
      "outputs": [
        {
          "output_type": "execute_result",
          "data": {
            "text/plain": [
              "{'header': 'MARKETING RESEARCH RPROJECT APPROVAL',\n",
              " 'q&a': [{'question': 'PRODUCT', 'answer': 'Triumph'},\n",
              "  {'question': 'Date', 'answer': 'October 17, 1979'},\n",
              "  {'question': 'Incidence', 'answer': '-'},\n",
              "  {'question': 'Topline', 'answer': '2 wks from start of fid.'},\n",
              "  {'question': 'Final', 'answer': '4 wks from start of fld'},\n",
              "  {'question': 'PROJECT TITLE', 'answer': 'Triumph Disaster Check Study'},\n",
              "  {'question': 'Key Criteria for Analysis',\n",
              "   'answer': '-Triumph switchers asked why no longer smoking Triumph'},\n",
              "  {'question': 'Research Limitations',\n",
              "   'answer': 'Due to sample size and experience we feel 25 respondents will presently be Triumph smokers. An action standard of 75% should be utilized for judgments on product negatives only among this group'},\n",
              "  {'question': 'Research Firm', 'answer': 'The Data Group. Inc'},\n",
              "  {'question': 'Lenght Int', 'answer': '10 minutes'},\n",
              "  {'question': '# Open ', 'answer': '4'},\n",
              "  {'question': '# Reports', 'answer': '1'},\n",
              "  {'question': 'Cost Estimate + - 10% Contingency Final Report Inc.',\n",
              "   'answer': '$ 2.250'}]}"
            ]
          },
          "metadata": {},
          "execution_count": 82
        }
      ]
    },
    {
      "cell_type": "code",
      "source": [
        "import os \n",
        "from pathlib import Path \n",
        "\n",
        "def create_donut_meta_data(path,donut_dir=\"dataset/testing_data/donut_annotations\"):\n",
        "  path = Path(path)\n",
        "  donut_dir = Path(donut_dir)\n",
        "  donut_dir.mkdir(parents=True, exist_ok=True)\n",
        "\n",
        "  for file_name in path.iterdir():\n",
        "    file_data=load_json(file_name)\n",
        "    donut_doc=create_donut_document(file_data)\n",
        "    with open(f\"{donut_dir.joinpath(file_name.stem)}.json\",\"w\") as wr:\n",
        "      json.dump(donut_doc,wr)\n",
        "  \n",
        "create_donut_meta_data(\"dataset/testing_data/annotations\")\n",
        "\n",
        "\n"
      ],
      "metadata": {
        "id": "GzW3-fjJk_Kz"
      },
      "execution_count": 78,
      "outputs": []
    }
  ]
}